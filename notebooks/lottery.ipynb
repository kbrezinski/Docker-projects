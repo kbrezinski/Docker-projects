{
 "cells": [
  {
   "cell_type": "code",
   "execution_count": 43,
   "metadata": {},
   "outputs": [
    {
     "name": "stdout",
     "output_type": "stream",
     "text": [
      "with_extra=True | -3.9742\n",
      "with_extra=False | -2.9753\n"
     ]
    }
   ],
   "source": [
    "import numpy as np\n",
    "import matplotlib.pyplot as plt\n",
    "\n",
    "prizes = {\n",
    "    8: 0,\n",
    "    81: 5, # extra 1\n",
    "    57: 10,\n",
    "    1_033: 99,\n",
    "    55_492: 1410,\n",
    "    2_330_636: 187_229, # extra 2\n",
    "    5_045_344: 3_430_000, # accounts for golden ball chance\n",
    "    13_983_816: 5_000_000,\n",
    "}\n",
    "week_prizes = set(prizes.keys())\n",
    "\n",
    "\n",
    "#num_iter = int(1e7)\n",
    "num_iter = 4420\n",
    "\n",
    "for with_extra in [True, False]:\n",
    "    curr_balance = 0\n",
    "    for week in range(num_iter):\n",
    "        curr_balance -= 4 if with_extra else 3\n",
    "        if week in week_prizes:\n",
    "            if not with_extra and week in [81, 2_330_636]:\n",
    "                continue\n",
    "            curr_balance += prizes[week]\n",
    "    print(f\"{with_extra=} | {curr_balance / num_iter:.4f}\")"
   ]
  },
  {
   "cell_type": "code",
   "execution_count": 41,
   "metadata": {},
   "outputs": [
    {
     "name": "stdout",
     "output_type": "stream",
     "text": [
      "i=0 | 1000000.00\n",
      "i=2000000 | 3437017.78\n",
      "i=4000000 | 3436863.39\n",
      "i=6000000 | 3437199.09\n",
      "i=8000000 | 3437353.07\n"
     ]
    }
   ],
   "source": [
    "from random import randint\n",
    "\n",
    "iter = int(1e7)\n",
    "payout = 0\n",
    "winning_sum = 0\n",
    "balls = 30\n",
    "\n",
    "for i in range(iter):\n",
    "    if randint(0, balls) == 0:\n",
    "        # gold ball\n",
    "        winning_sum += payout + 10_000_000\n",
    "        payout = 0\n",
    "        balls = 30\n",
    "    else:\n",
    "        # white ball\n",
    "        winning_sum += 1_000_000\n",
    "        payout += 2_000_000\n",
    "        balls -= 1\n",
    "\n",
    "    if not i % (iter // 5):\n",
    "        print(f\"{i=} | {winning_sum / (i + 1):.2f}\")"
   ]
  },
  {
   "cell_type": "code",
   "execution_count": null,
   "metadata": {},
   "outputs": [],
   "source": []
  }
 ],
 "metadata": {
  "kernelspec": {
   "display_name": "dashboard",
   "language": "python",
   "name": "python3"
  },
  "language_info": {
   "codemirror_mode": {
    "name": "ipython",
    "version": 3
   },
   "file_extension": ".py",
   "mimetype": "text/x-python",
   "name": "python",
   "nbconvert_exporter": "python",
   "pygments_lexer": "ipython3",
   "version": "3.9.15"
  },
  "orig_nbformat": 4,
  "vscode": {
   "interpreter": {
    "hash": "02d612172dd4fdee07360e3fa6b8427abc42c485bdb2db21fdac5fef03dc736f"
   }
  }
 },
 "nbformat": 4,
 "nbformat_minor": 2
}
